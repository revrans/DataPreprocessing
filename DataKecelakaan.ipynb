{
 "cells": [
  {
   "cell_type": "code",
   "execution_count": 1,
   "id": "aba57ec6",
   "metadata": {},
   "outputs": [
    {
     "name": "stdout",
     "output_type": "stream",
     "text": [
      "   CRASH DATE CRASH TIME   BOROUGH  ZIP CODE   LATITUDE  LONGITUDE  \\\n",
      "0  09/11/2021       2:39       NaN       NaN        NaN        NaN   \n",
      "1  03/26/2022      11:45       NaN       NaN        NaN        NaN   \n",
      "2  06/29/2022       6:55       NaN       NaN        NaN        NaN   \n",
      "3  09/11/2021       9:35  BROOKLYN   11208.0  40.667202 -73.866500   \n",
      "4  12/14/2021       8:13  BROOKLYN   11233.0  40.683304 -73.917274   \n",
      "\n",
      "                  LOCATION           ON STREET NAME CROSS STREET NAME  \\\n",
      "0                      NaN    WHITESTONE EXPRESSWAY         20 AVENUE   \n",
      "1                      NaN  QUEENSBORO BRIDGE UPPER               NaN   \n",
      "2                      NaN       THROGS NECK BRIDGE               NaN   \n",
      "3    (40.667202, -73.8665)                      NaN               NaN   \n",
      "4  (40.683304, -73.917274)          SARATOGA AVENUE    DECATUR STREET   \n",
      "\n",
      "           OFF STREET NAME  ...  CONTRIBUTING FACTOR VEHICLE 2  \\\n",
      "0                      NaN  ...                    Unspecified   \n",
      "1                      NaN  ...                            NaN   \n",
      "2                      NaN  ...                    Unspecified   \n",
      "3  1211      LORING AVENUE  ...                            NaN   \n",
      "4                      NaN  ...                            NaN   \n",
      "\n",
      "   CONTRIBUTING FACTOR VEHICLE 3  CONTRIBUTING FACTOR VEHICLE 4  \\\n",
      "0                            NaN                            NaN   \n",
      "1                            NaN                            NaN   \n",
      "2                            NaN                            NaN   \n",
      "3                            NaN                            NaN   \n",
      "4                            NaN                            NaN   \n",
      "\n",
      "   CONTRIBUTING FACTOR VEHICLE 5  COLLISION_ID  VEHICLE TYPE CODE 1  \\\n",
      "0                            NaN     4455765.0                Sedan   \n",
      "1                            NaN     4513547.0                Sedan   \n",
      "2                            NaN     4541903.0                Sedan   \n",
      "3                            NaN     4456314.0                Sedan   \n",
      "4                            NaN     4486609.0                  NaN   \n",
      "\n",
      "   VEHICLE TYPE CODE 2  VEHICLE TYPE CODE 3 VEHICLE TYPE CODE 4  \\\n",
      "0                Sedan                  NaN                 NaN   \n",
      "1                  NaN                  NaN                 NaN   \n",
      "2        Pick-up Truck                  NaN                 NaN   \n",
      "3                  NaN                  NaN                 NaN   \n",
      "4                  NaN                  NaN                 NaN   \n",
      "\n",
      "  VEHICLE TYPE CODE 5  \n",
      "0                 NaN  \n",
      "1                 NaN  \n",
      "2                 NaN  \n",
      "3                 NaN  \n",
      "4                 NaN  \n",
      "\n",
      "[5 rows x 29 columns]\n"
     ]
    }
   ],
   "source": [
    "import numpy as np\n",
    "import matplotlib.pyplot as plt\n",
    "import pandas as pd\n",
    "\n",
    "dataset = pd.read_csv('Data.csv')\n",
    "X = dataset.iloc[:, :-1].values\n",
    "y = dataset.iloc[:, -1].values\n",
    "\n",
    "from sklearn.model_selection import train_test_split\n",
    "X_train, X_test, y_train, y_test = train_test_split(X, y, test_size = 0.2, random_state = 0)\n",
    "\n",
    "print(dataset.head())"
   ]
  },
  {
   "cell_type": "code",
   "execution_count": null,
   "id": "458b318e",
   "metadata": {},
   "outputs": [],
   "source": []
  }
 ],
 "metadata": {
  "kernelspec": {
   "display_name": "Python 3 (ipykernel)",
   "language": "python",
   "name": "python3"
  },
  "language_info": {
   "codemirror_mode": {
    "name": "ipython",
    "version": 3
   },
   "file_extension": ".py",
   "mimetype": "text/x-python",
   "name": "python",
   "nbconvert_exporter": "python",
   "pygments_lexer": "ipython3",
   "version": "3.11.5"
  }
 },
 "nbformat": 4,
 "nbformat_minor": 5
}
